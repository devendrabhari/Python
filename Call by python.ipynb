{
 "cells": [
  {
   "cell_type": "code",
   "execution_count": 1,
   "id": "ba1f640d-2618-4505-bdca-5e3caa31afb8",
   "metadata": {},
   "outputs": [
    {
     "name": "stdout",
     "output_type": "stream",
     "text": [
      "✅ Call initiated successfully! Call SID: CAa103c9fd33e043b6a0d6a5a77fc433c6\n"
     ]
    }
   ],
   "source": [
    "# Import the Twilio Client from the twilio.rest module\n",
    "from twilio.rest import Client\n",
    "\n",
    "# -------------------------------\n",
    "# Twilio Account Credentials\n",
    "# -------------------------------\n",
    "\n",
    "# Replace 'xxxxxxxx...' with actual Account SID from Twilio Console\n",
    "account_sid = 'xxxxxxxxxxxxxxx'\n",
    "\n",
    "# Replace 'xxxxxxxx...' with actual Auth Token from Twilio Console\n",
    "auth_token = 'xxxxxxxxxxxxxxx'\n",
    "\n",
    "# Your Twilio-registered phone number\n",
    "twilio_phone_number = 'xxxxxxxxxxxx'  \n",
    "\n",
    "# The recipient’s phone number\n",
    "target_phone_number = 'xxxxxxxxxxxx' \n",
    "\n",
    "# -------------------------------\n",
    "# Initialize the Twilio Client\n",
    "# -------------------------------\n",
    "\n",
    "# Create a Client object using your Twilio credentials\n",
    "client = Client(account_sid, auth_token)\n",
    "\n",
    "# -------------------------------\n",
    "# Make the Call\n",
    "# -------------------------------\n",
    "\n",
    "try:\n",
    "    # Use the client to initiate a phone call\n",
    "    call = client.calls.create(\n",
    "        # 'twiml' defines what to say when the call connects\n",
    "        # <Say> is a TwiML verb that converts text to speech\n",
    "        twiml='<Response><Say>This is a test call from Python using Twilio. Have a great day!</Say></Response>',\n",
    "        \n",
    "        # The number you want to call\n",
    "        to=target_phone_number,\n",
    "\n",
    "        # The number you’re calling from (your Twilio number)\n",
    "        from_=twilio_phone_number\n",
    "    )\n",
    "\n",
    "    # If the call is successfully created, print the Call SID\n",
    "    print(f\"✅ Call initiated successfully! Call SID: {call.sid}\")\n",
    "\n",
    "except Exception as e:\n",
    "    # Catch and print any error that occurs while making the call\n",
    "    print(f\"❌ Failed to initiate call: {e}\")\n"
   ]
  },
  {
   "cell_type": "code",
   "execution_count": null,
   "id": "8ce98ce0-7ee8-4fe3-83ff-f52b728d2de7",
   "metadata": {},
   "outputs": [],
   "source": []
  }
 ],
 "metadata": {
  "kernelspec": {
   "display_name": "Python 3 (ipykernel)",
   "language": "python",
   "name": "python3"
  },
  "language_info": {
   "codemirror_mode": {
    "name": "ipython",
    "version": 3
   },
   "file_extension": ".py",
   "mimetype": "text/x-python",
   "name": "python",
   "nbconvert_exporter": "python",
   "pygments_lexer": "ipython3",
   "version": "3.12.7"
  }
 },
 "nbformat": 4,
 "nbformat_minor": 5
}
