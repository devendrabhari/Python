{
 "cells": [
  {
   "cell_type": "code",
   "execution_count": 1,
   "id": "70f33852-34b1-4b9c-8739-14b3667a3926",
   "metadata": {},
   "outputs": [
    {
     "name": "stdout",
     "output_type": "stream",
     "text": [
      "* Running on local URL:  http://127.0.0.1:7861\n",
      "* To create a public link, set `share=True` in `launch()`.\n"
     ]
    },
    {
     "data": {
      "text/html": [
       "<div><iframe src=\"http://127.0.0.1:7861/\" width=\"100%\" height=\"500\" allow=\"autoplay; camera; microphone; clipboard-read; clipboard-write;\" frameborder=\"0\" allowfullscreen></iframe></div>"
      ],
      "text/plain": [
       "<IPython.core.display.HTML object>"
      ]
     },
     "metadata": {},
     "output_type": "display_data"
    },
    {
     "data": {
      "text/plain": []
     },
     "execution_count": 1,
     "metadata": {},
     "output_type": "execute_result"
    }
   ],
   "source": [
    "import smtplib\n",
    "from email.mime.text import MIMEText\n",
    "import gradio as gr\n",
    "\n",
    "# ---------------------------\n",
    "# Function to send email\n",
    "# ---------------------------\n",
    "def send_email(sender_email, app_password, receiver_email, subject, body):\n",
    "    try:\n",
    "        # Create the email object with plain text content\n",
    "        msg = MIMEText(body)\n",
    "        msg['Subject'] = subject\n",
    "        msg['From'] = sender_email\n",
    "        msg['To'] = receiver_email\n",
    "\n",
    "        # Connect to Gmail's SMTP server using SSL on port 465\n",
    "        with smtplib.SMTP_SSL('smtp.gmail.com', 465) as server:\n",
    "            # Login with sender's email and app password\n",
    "            server.login(sender_email, app_password)\n",
    "\n",
    "            # Send the email from sender to receiver\n",
    "            server.sendmail(sender_email, receiver_email, msg.as_string())\n",
    "\n",
    "        return \"✅ Email sent successfully!\"\n",
    "\n",
    "    except Exception as e:\n",
    "        # Return error message if something goes wrong\n",
    "        return f\"❌ Failed to send email: {str(e)}\"\n",
    "\n",
    "# ---------------------------\n",
    "# Gradio Interface\n",
    "# ---------------------------\n",
    "# Inputs:\n",
    "# - sender_email: Email ID of the sender\n",
    "# - app_password: App password from Gmail (not the login password)\n",
    "# - receiver_email: Recipient's email address\n",
    "# - subject: Email subject\n",
    "# - body: Email body content\n",
    "\n",
    "interface = gr.Interface(\n",
    "    fn=send_email,\n",
    "    inputs=[\n",
    "        gr.Textbox(label=\"Sender Email (Gmail)\", placeholder=\"your-email@gmail.com\"),\n",
    "        gr.Textbox(label=\"App Password (from Gmail)\", placeholder=\"16-character App Password\", type=\"password\"),\n",
    "        gr.Textbox(label=\"Recipient Email\", placeholder=\"recipient@example.com\"),\n",
    "        gr.Textbox(label=\"Subject\", placeholder=\"Enter subject here\"),\n",
    "        gr.Textbox(label=\"Message Body\", placeholder=\"Write your message here...\", lines=5)\n",
    "    ],\n",
    "    outputs=\"text\",\n",
    "    title=\"📧 Python Email Sender\",\n",
    "    description=\"Send emails securely using your Gmail and App Password. Works only with Gmail accounts with 2FA enabled and App Password created.\"\n",
    ")\n",
    "\n",
    "# Launch the app\n",
    "interface.launch()\n"
   ]
  },
  {
   "cell_type": "code",
   "execution_count": null,
   "id": "45e064b4-ed2a-49fb-90bf-410dad0d3395",
   "metadata": {},
   "outputs": [],
   "source": []
  }
 ],
 "metadata": {
  "kernelspec": {
   "display_name": "Python 3 (ipykernel)",
   "language": "python",
   "name": "python3"
  },
  "language_info": {
   "codemirror_mode": {
    "name": "ipython",
    "version": 3
   },
   "file_extension": ".py",
   "mimetype": "text/x-python",
   "name": "python",
   "nbconvert_exporter": "python",
   "pygments_lexer": "ipython3",
   "version": "3.12.7"
  }
 },
 "nbformat": 4,
 "nbformat_minor": 5
}
