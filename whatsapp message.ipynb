{
 "cells": [
  {
   "cell_type": "code",
   "execution_count": null,
   "id": "b787552f-44d4-470f-87c5-2c4c1e3cd540",
   "metadata": {},
   "outputs": [
    {
     "name": "stdout",
     "output_type": "stream",
     "text": [
      "Requirement already satisfied: pywhatkit in c:\\users\\hp\\anaconda3\\lib\\site-packages (5.4)\n",
      "Requirement already satisfied: Pillow in c:\\users\\hp\\anaconda3\\lib\\site-packages (from pywhatkit) (10.4.0)\n",
      "Requirement already satisfied: pyautogui in c:\\users\\hp\\anaconda3\\lib\\site-packages (from pywhatkit) (0.9.54)\n",
      "Requirement already satisfied: requests in c:\\users\\hp\\anaconda3\\lib\\site-packages (from pywhatkit) (2.32.3)\n",
      "Requirement already satisfied: wikipedia in c:\\users\\hp\\anaconda3\\lib\\site-packages (from pywhatkit) (1.4.0)\n",
      "Requirement already satisfied: Flask in c:\\users\\hp\\anaconda3\\lib\\site-packages (from pywhatkit) (3.0.3)\n",
      "Requirement already satisfied: Werkzeug>=3.0.0 in c:\\users\\hp\\anaconda3\\lib\\site-packages (from Flask->pywhatkit) (3.0.3)\n",
      "Requirement already satisfied: Jinja2>=3.1.2 in c:\\users\\hp\\anaconda3\\lib\\site-packages (from Flask->pywhatkit) (3.1.4)\n",
      "Requirement already satisfied: itsdangerous>=2.1.2 in c:\\users\\hp\\anaconda3\\lib\\site-packages (from Flask->pywhatkit) (2.2.0)\n",
      "Requirement already satisfied: click>=8.1.3 in c:\\users\\hp\\anaconda3\\lib\\site-packages (from Flask->pywhatkit) (8.2.1)\n",
      "Requirement already satisfied: blinker>=1.6.2 in c:\\users\\hp\\anaconda3\\lib\\site-packages (from Flask->pywhatkit) (1.6.2)\n",
      "Requirement already satisfied: pymsgbox in c:\\users\\hp\\anaconda3\\lib\\site-packages (from pyautogui->pywhatkit) (1.0.9)\n",
      "Requirement already satisfied: pytweening>=1.0.4 in c:\\users\\hp\\anaconda3\\lib\\site-packages (from pyautogui->pywhatkit) (1.2.0)\n",
      "Requirement already satisfied: pyscreeze>=0.1.21 in c:\\users\\hp\\anaconda3\\lib\\site-packages (from pyautogui->pywhatkit) (1.0.1)\n",
      "Requirement already satisfied: pygetwindow>=0.0.5 in c:\\users\\hp\\anaconda3\\lib\\site-packages (from pyautogui->pywhatkit) (0.0.9)\n",
      "Requirement already satisfied: mouseinfo in c:\\users\\hp\\anaconda3\\lib\\site-packages (from pyautogui->pywhatkit) (0.1.3)\n",
      "Requirement already satisfied: charset-normalizer<4,>=2 in c:\\users\\hp\\anaconda3\\lib\\site-packages (from requests->pywhatkit) (3.3.2)\n",
      "Requirement already satisfied: idna<4,>=2.5 in c:\\users\\hp\\anaconda3\\lib\\site-packages (from requests->pywhatkit) (3.7)\n",
      "Requirement already satisfied: urllib3<3,>=1.21.1 in c:\\users\\hp\\anaconda3\\lib\\site-packages (from requests->pywhatkit) (2.2.3)\n",
      "Requirement already satisfied: certifi>=2017.4.17 in c:\\users\\hp\\anaconda3\\lib\\site-packages (from requests->pywhatkit) (2024.8.30)\n",
      "Requirement already satisfied: beautifulsoup4 in c:\\users\\hp\\anaconda3\\lib\\site-packages (from wikipedia->pywhatkit) (4.12.3)\n",
      "Requirement already satisfied: colorama in c:\\users\\hp\\anaconda3\\lib\\site-packages (from click>=8.1.3->Flask->pywhatkit) (0.4.6)\n",
      "Requirement already satisfied: MarkupSafe>=2.0 in c:\\users\\hp\\anaconda3\\lib\\site-packages (from Jinja2>=3.1.2->Flask->pywhatkit) (2.1.3)\n",
      "Requirement already satisfied: pyrect in c:\\users\\hp\\anaconda3\\lib\\site-packages (from pygetwindow>=0.0.5->pyautogui->pywhatkit) (0.2.0)\n",
      "Requirement already satisfied: soupsieve>1.2 in c:\\users\\hp\\anaconda3\\lib\\site-packages (from beautifulsoup4->wikipedia->pywhatkit) (2.5)\n",
      "Requirement already satisfied: pyperclip in c:\\users\\hp\\anaconda3\\lib\\site-packages (from mouseinfo->pyautogui->pywhatkit) (1.9.0)\n",
      "Note: you may need to restart the kernel to use updated packages.\n"
     ]
    }
   ],
   "source": [
    "pip install pywhatkit\n"
   ]
  },
  {
   "cell_type": "code",
   "execution_count": null,
   "id": "3d08ac20-bff0-4c52-8d2e-a716c62719ac",
   "metadata": {},
   "outputs": [
    {
     "name": "stdout",
     "output_type": "stream",
     "text": [
      "In 7 Seconds WhatsApp will open and after 15 Seconds Message will be Delivered!\n",
      "Message scheduled successfully!\n"
     ]
    }
   ],
   "source": [
    "# Import necessary libraries\n",
    "import pywhatkit  # This library helps in sending WhatsApp messages using Python\n",
    "import datetime   # Used to get the current date and time\n",
    "\n",
    "# Get the current date and time\n",
    "now = datetime.datetime.now()\n",
    "\n",
    "# Set the time to send the message: current hour and current minute + 1\n",
    "# Adding 1 minute ensures the message is scheduled shortly after running the code\n",
    "send_hour = now.hour\n",
    "send_minute = now.minute + 1\n",
    "\n",
    "# Set the recipient's WhatsApp number (in international format, e.g., +91 for India)\n",
    "# Replace \"+91xxxxxx\" with the actual phone number\n",
    "phone_number = \"+91xxxxxx\"\n",
    "\n",
    "# Define the message content to be sent\n",
    "message = \"Hey, this is a message sent from Python! 🚀\"\n",
    "\n",
    "# Try to send the WhatsApp message using pywhatkit\n",
    "try:\n",
    "    # Schedules the WhatsApp message at the specified time\n",
    "    pywhatkit.sendwhatmsg(phone_number, message, send_hour, send_minute)\n",
    "    print(\"Message scheduled successfully!\")  # Confirmation message\n",
    "except Exception as e:\n",
    "    # In case of any error (like no internet or WhatsApp web not open), print the error\n",
    "    print(\"An error occurred:\", e)\n",
    "\n"
   ]
  },
  {
   "cell_type": "code",
   "execution_count": null,
   "id": "75090b8b-b4a5-4712-a682-994c8f0acd32",
   "metadata": {},
   "outputs": [],
   "source": []
  },
  {
   "cell_type": "code",
   "execution_count": null,
   "id": "bd031320-3e74-40fc-9e1b-a0852df469ee",
   "metadata": {},
   "outputs": [],
   "source": []
  },
  {
   "cell_type": "code",
   "execution_count": null,
   "id": "38c67f38-372d-46c2-872f-6c9b5f653e2e",
   "metadata": {},
   "outputs": [
    {
     "name": "stdout",
     "output_type": "stream",
     "text": [
      "* Running on local URL:  http://127.0.0.1:7861\n",
      "* To create a public link, set `share=True` in `launch()`.\n"
     ]
    },
    {
     "data": {
      "text/html": [
       "<div><iframe src=\"http://127.0.0.1:7861/\" width=\"100%\" height=\"500\" allow=\"autoplay; camera; microphone; clipboard-read; clipboard-write;\" frameborder=\"0\" allowfullscreen></iframe></div>"
      ],
      "text/plain": [
       "<IPython.core.display.HTML object>"
      ]
     },
     "metadata": {},
     "output_type": "display_data"
    },
    {
     "data": {
      "text/plain": []
     },
     "execution_count": 3,
     "metadata": {},
     "output_type": "execute_result"
    },
    {
     "name": "stdout",
     "output_type": "stream",
     "text": [
      "In 16 Seconds WhatsApp will open and after 15 Seconds Message will be Delivered!\n",
      "In 2 Seconds WhatsApp will open and after 15 Seconds Message will be Delivered!\n"
     ]
    }
   ],
   "source": [
    "\n",
    "# Using Gradio\n",
    "\n",
    "# Import necessary libraries\n",
    "import gradio as gr         # Gradio is used to create the web interface\n",
    "import pywhatkit            # PyWhatKit is used to send WhatsApp messages\n",
    "import datetime             # Datetime is used to get the current time\n",
    "\n",
    "# Define the main function that schedules the WhatsApp message\n",
    "def schedule_whatsapp_message(phone_number, message):\n",
    "    try:\n",
    "        # Get the current time\n",
    "        now = datetime.datetime.now()\n",
    "\n",
    "        # Schedule the message 1 minute later than the current time\n",
    "        send_hour = now.hour\n",
    "        send_minute = now.minute + 1\n",
    "\n",
    "        # Use pywhatkit to schedule the WhatsApp message\n",
    "        pywhatkit.sendwhatmsg(phone_number, message, send_hour, send_minute)\n",
    "\n",
    "        # Return success message to user\n",
    "        return f\"✅ Message scheduled at {send_hour}:{send_minute} for {phone_number}\"\n",
    "    except Exception as e:\n",
    "        # If something goes wrong, return the error message\n",
    "        return f\"❌ Error: {str(e)}\"\n",
    "\n",
    "# Create a Gradio interface to take user input and display output\n",
    "interface = gr.Interface(\n",
    "    fn=schedule_whatsapp_message,  # Function to call when user submits input\n",
    "    inputs=[\n",
    "        gr.Textbox(\n",
    "            label=\"Enter Phone Number (with country code)\",  # Label shown above the textbox\n",
    "            placeholder=\"+91xxxxxxxxxx\"                      # Placeholder text\n",
    "        ),\n",
    "        gr.Textbox(\n",
    "            label=\"Enter Message\",                          # Label shown above the textbox\n",
    "            placeholder=\"Your message here...\"              # Placeholder message\n",
    "        ),\n",
    "    ],\n",
    "    outputs=\"text\",              # Output will be displayed as text (success or error message)\n",
    "    title=\"📲 WhatsApp Message Scheduler\",   # Title of the web app\n",
    "    description=\"Send a WhatsApp message using Python and PyWhatKit. \"\n",
    "                \"The message will be scheduled for 1 minute from now.\"  # Description shown below title\n",
    ")\n",
    "\n",
    "# Launch the Gradio interface in a web browser\n",
    "interface.launch()\n"
   ]
  },
  {
   "cell_type": "code",
   "execution_count": null,
   "id": "d032f1aa-2d03-4326-85e9-ba3fd1e74e8a",
   "metadata": {},
   "outputs": [],
   "source": []
  }
 ],
 "metadata": {
  "kernelspec": {
   "display_name": "Python 3 (ipykernel)",
   "language": "python",
   "name": "python3"
  },
  "language_info": {
   "codemirror_mode": {
    "name": "ipython",
    "version": 3
   },
   "file_extension": ".py",
   "mimetype": "text/x-python",
   "name": "python",
   "nbconvert_exporter": "python",
   "pygments_lexer": "ipython3",
   "version": "3.12.7"
  }
 },
 "nbformat": 4,
 "nbformat_minor": 5
}
