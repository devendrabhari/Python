{
 "cells": [
  {
   "cell_type": "code",
   "execution_count": 2,
   "id": "654b29bc-f6b1-452e-8e28-d5a957edeb66",
   "metadata": {},
   "outputs": [
    {
     "name": "stdout",
     "output_type": "stream",
     "text": [
      "* Running on local URL:  http://127.0.0.1:7861\n",
      "* To create a public link, set `share=True` in `launch()`.\n"
     ]
    },
    {
     "data": {
      "text/html": [
       "<div><iframe src=\"http://127.0.0.1:7861/\" width=\"100%\" height=\"500\" allow=\"autoplay; camera; microphone; clipboard-read; clipboard-write;\" frameborder=\"0\" allowfullscreen></iframe></div>"
      ],
      "text/plain": [
       "<IPython.core.display.HTML object>"
      ]
     },
     "metadata": {},
     "output_type": "display_data"
    },
    {
     "data": {
      "text/plain": []
     },
     "execution_count": 2,
     "metadata": {},
     "output_type": "execute_result"
    }
   ],
   "source": [
    "import gradio as gr\n",
    "from twilio.rest import Client\n",
    "\n",
    "# Twilio credentials - replace with your actual credentials from https://console.twilio.com/\n",
    "account_sid = 'xxxxxxxxxxxxxxxxxxxxxxxxxxxxxxx'\n",
    "auth_token = 'xxxxxxxxxxxxxxxxxxxxxxxxxxxxxxxx'\n",
    "twilio_whatsapp_number = 'whatsapp:+14155238886'  # This is Twilio sandbox number by default\n",
    "\n",
    "# Initialize the Twilio client\n",
    "client = Client(account_sid, auth_token)\n",
    "\n",
    "# Define the function to send WhatsApp message\n",
    "def send_whatsapp_message(phone_number, message_text):\n",
    "    try:\n",
    "        # Format the phone number properly with whatsapp prefix\n",
    "        target_whatsapp_number = f\"whatsapp:{phone_number}\"\n",
    "\n",
    "        # Send the message using Twilio API\n",
    "        message = client.messages.create(\n",
    "            from_=twilio_whatsapp_number,\n",
    "            to=target_whatsapp_number,\n",
    "            body=message_text\n",
    "        )\n",
    "\n",
    "        # Return success message with SID\n",
    "        return f\"✅ Message sent successfully!\\nSID: {message.sid}\"\n",
    "\n",
    "    except Exception as e:\n",
    "        # Return any error message if the process fails\n",
    "        return f\"❌ Failed to send message.\\nError: {str(e)}\"\n",
    "\n",
    "# Gradio UI components\n",
    "with gr.Blocks() as app:\n",
    "    gr.Markdown(\"## 💬 Twilio WhatsApp Messenger\\nSend WhatsApp messages easily using Python and Twilio.\")\n",
    "\n",
    "    # Input fields for phone number and message\n",
    "    phone_input = gr.Textbox(label=\"📞 Enter WhatsApp Number (with country code)\", placeholder=\"+91XXXXXXXXXX\")\n",
    "    message_input = gr.Textbox(label=\"✉️ Enter Your Message\", placeholder=\"Type your message here...\", lines=4)\n",
    "\n",
    "    # Button to trigger message send\n",
    "    send_button = gr.Button(\"🚀 Send Message\")\n",
    "\n",
    "    # Output display\n",
    "    output_display = gr.Textbox(label=\"📤 Status\", interactive=False)\n",
    "\n",
    "    # Function to call when button is clicked\n",
    "    send_button.click(\n",
    "        fn=send_whatsapp_message,     # Function to execute\n",
    "        inputs=[phone_input, message_input],  # Inputs passed to the function\n",
    "        outputs=output_display        # Output shown from the function\n",
    "    )\n",
    "\n",
    "# Launch the Gradio app\n",
    "app.launch()\n"
   ]
  },
  {
   "cell_type": "code",
   "execution_count": 3,
   "id": "f83a0554-c82c-42f3-a42e-65bd9e3a875d",
   "metadata": {},
   "outputs": [
    {
     "name": "stdout",
     "output_type": "stream",
     "text": [
      "* Running on local URL:  http://127.0.0.1:7862\n",
      "* To create a public link, set `share=True` in `launch()`.\n"
     ]
    },
    {
     "data": {
      "text/html": [
       "<div><iframe src=\"http://127.0.0.1:7862/\" width=\"100%\" height=\"500\" allow=\"autoplay; camera; microphone; clipboard-read; clipboard-write;\" frameborder=\"0\" allowfullscreen></iframe></div>"
      ],
      "text/plain": [
       "<IPython.core.display.HTML object>"
      ]
     },
     "metadata": {},
     "output_type": "display_data"
    },
    {
     "data": {
      "text/plain": []
     },
     "execution_count": 3,
     "metadata": {},
     "output_type": "execute_result"
    }
   ],
   "source": [
    "import gradio as gr\n",
    "from twilio.rest import Client\n",
    "\n",
    "# ---------------------\n",
    "# Twilio Credentials (Replace with your actual credentials)\n",
    "# ---------------------\n",
    "account_sid = 'xxxxxxxxxxxxxxxxxxxxxxxxxxxxxx'\n",
    "auth_token = '02bdb9933ce06ea10f25c3069768f37a'\n",
    "twilio_whatsapp_number = 'whatsapp:+14155238886'  # Twilio Sandbox WhatsApp number\n",
    "\n",
    "# Initialize Twilio client\n",
    "client = Client(account_sid, auth_token)\n",
    "\n",
    "# ---------------------\n",
    "# Function to Send WhatsApp Message\n",
    "# ---------------------\n",
    "def send_whatsapp_message(phone_number, message_text):\n",
    "    try:\n",
    "        if not phone_number.startswith('+'):\n",
    "            return \"❌ Please enter a valid phone number with country code (e.g., +91XXXXXXXXXX).\"\n",
    "        if not message_text.strip():\n",
    "            return \"❌ Message text cannot be empty.\"\n",
    "\n",
    "        # Format the number correctly for Twilio\n",
    "        target_whatsapp_number = f\"whatsapp:{phone_number}\"\n",
    "\n",
    "        # Send message using Twilio\n",
    "        message = client.messages.create(\n",
    "            from_=twilio_whatsapp_number,\n",
    "            to=target_whatsapp_number,\n",
    "            body=message_text\n",
    "        )\n",
    "\n",
    "        return f\"✅ Message sent successfully!\\n🆔 Message SID: `{message.sid}`\"\n",
    "    \n",
    "    except Exception as e:\n",
    "        return f\"❌ Error sending message:\\n{str(e)}\"\n",
    "\n",
    "# ---------------------\n",
    "# Gradio UI Setup\n",
    "# ---------------------\n",
    "with gr.Blocks(theme=gr.themes.Base()) as app:\n",
    "    gr.Markdown(\"\"\"\n",
    "        # 💬 Twilio WhatsApp Messenger\n",
    "        Send messages via WhatsApp using [Twilio API](https://www.twilio.com/whatsapp).\n",
    "        ---\n",
    "    \"\"\")\n",
    "\n",
    "    with gr.Row():\n",
    "        with gr.Column():\n",
    "            gr.Markdown(\"### 📱 Recipient Info\")\n",
    "            phone_input = gr.Textbox(\n",
    "                label=\"Recipient Phone Number (with country code)\",\n",
    "                placeholder=\"+91XXXXXXXXXX\",\n",
    "                max_lines=1\n",
    "            )\n",
    "\n",
    "            gr.Markdown(\"### ✍️ Message Content\")\n",
    "            message_input = gr.Textbox(\n",
    "                label=\"Type Your Message\",\n",
    "                placeholder=\"Enter your message here...\",\n",
    "                lines=5\n",
    "            )\n",
    "\n",
    "            send_button = gr.Button(\"🚀 Send WhatsApp Message\")\n",
    "\n",
    "        with gr.Column():\n",
    "            gr.Markdown(\"### 📤 Status\")\n",
    "            output_display = gr.Textbox(label=\"\", interactive=False, lines=8)\n",
    "\n",
    "    # Button click interaction\n",
    "    send_button.click(\n",
    "        fn=send_whatsapp_message,\n",
    "        inputs=[phone_input, message_input],\n",
    "        outputs=output_display\n",
    "    )\n",
    "\n",
    "    gr.Markdown(\"---\")\n",
    "    gr.Markdown(\"✅ Make sure the recipient number is joined in your Twilio WhatsApp Sandbox.\\nFor more info, check your [Twilio Console](https://console.twilio.com/).\")\n",
    "\n",
    "# ---------------------\n",
    "# Launch the Gradio App\n",
    "# ---------------------\n",
    "app.launch()\n"
   ]
  },
  {
   "cell_type": "code",
   "execution_count": null,
   "id": "dd5a8e0b-a274-45e1-b1be-243b549ded9c",
   "metadata": {},
   "outputs": [],
   "source": []
  }
 ],
 "metadata": {
  "kernelspec": {
   "display_name": "Python 3 (ipykernel)",
   "language": "python",
   "name": "python3"
  },
  "language_info": {
   "codemirror_mode": {
    "name": "ipython",
    "version": 3
   },
   "file_extension": ".py",
   "mimetype": "text/x-python",
   "name": "python",
   "nbconvert_exporter": "python",
   "pygments_lexer": "ipython3",
   "version": "3.12.7"
  }
 },
 "nbformat": 4,
 "nbformat_minor": 5
}
